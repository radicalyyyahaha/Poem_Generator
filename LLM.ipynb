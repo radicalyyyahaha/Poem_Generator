{
 "cells": [
  {
   "cell_type": "code",
   "execution_count": 35,
   "metadata": {},
   "outputs": [],
   "source": [
    "import os\n",
    "import requests\n",
    "import pandas as pd\n",
    "import matplotlib.pyplot as plt\n",
    "import math\n",
    "import tiktoken\n",
    "import torch\n",
    "import torch.nn as nn"
   ]
  },
  {
   "cell_type": "code",
   "execution_count": 36,
   "metadata": {},
   "outputs": [
    {
     "data": {
      "text/plain": [
       "<torch._C.Generator at 0x20d509fbf70>"
      ]
     },
     "execution_count": 36,
     "metadata": {},
     "output_type": "execute_result"
    }
   ],
   "source": [
    "# Hyperparameters\n",
    "batch_size = 16\n",
    "context_length = 16\n",
    "d_model = 128 # the vector size of the token embedding\n",
    "num_layers = 16 # num of Transformer blocks\n",
    "num_heads = 8\n",
    "lr = 1e-3\n",
    "dropout = 0.1\n",
    "max_iters = 5000\n",
    "eval_intervals = 50 # How often to evaluate \n",
    "eval_iters = 20 # How many iterations to average the loss over when evaluating the model\n",
    "device = 'cuda' if torch.cuda.is_available() else 'CPU'\n",
    "\n",
    "TORCH_SEED = 1557\n",
    "torch.manual_seed(TORCH_SEED)"
   ]
  },
  {
   "cell_type": "code",
   "execution_count": 37,
   "metadata": {},
   "outputs": [],
   "source": [
    "if not os.path.exists(\"train-00000-of-00001-faeb732d85449c1e.parquet\"):\n",
    "    url = 'https://huggingface.co/datasets/chenqile09/tang-poems-with-keywords/resolve/main/data/train-00000-of-00001-faeb732d85449c1e.parquet'\n",
    "    with open('train-00000-of-00001-faeb732d85449c1e.parquet', 'wb') as file:\n",
    "        file.write(requests.get(url).content)\n",
    "\n",
    "if not os.path.exists(\"test-00000-of-00001-94055845bc0c7e5e.parquet\"):\n",
    "    url = 'https://huggingface.co/datasets/chenqile09/tang-poems-with-keywords/resolve/main/data/test-00000-of-00001-94055845bc0c7e5e.parquet'\n",
    "    with open('test-00000-of-00001-94055845bc0c7e5e.parquet', 'wb') as file:\n",
    "        file.write(requests.get(url).content)\n",
    "\n",
    "df_train = pd.read_parquet(\"train-00000-of-00001-faeb732d85449c1e.parquet\")\n",
    "df_test = pd.read_parquet(\"test-00000-of-00001-94055845bc0c7e5e.parquet\")"
   ]
  },
  {
   "cell_type": "code",
   "execution_count": 38,
   "metadata": {},
   "outputs": [],
   "source": [
    "with open('train.txt', 'w') as file:\n",
    "    for text in df_train['paragraph']:\n",
    "        file.write(str(text) + '\\n')\n",
    "\n",
    "with open('test.txt', 'w') as file:\n",
    "    for text in df_test['paragraph']:\n",
    "        file.write(str(text) + '\\n')\n",
    "\n",
    "with open('train.txt', 'r') as a:\n",
    "    file1 = a.read()\n",
    "\n",
    "with open('test.txt', 'r') as b:\n",
    "    file2 = b.read()\n",
    "\n",
    "train = file1+file2\n"
   ]
  },
  {
   "cell_type": "code",
   "execution_count": 39,
   "metadata": {},
   "outputs": [
    {
     "name": "stdout",
     "output_type": "stream",
     "text": [
      "2800474\n",
      "937\n",
      "100179\n"
     ]
    }
   ],
   "source": [
    "# Tokenization\n",
    "encoding = tiktoken.get_encoding(\"cl100k_base\")\n",
    "tokenized_text = encoding.encode(train)\n",
    "\n",
    "print(len(tokenized_text))\n",
    "print(len(set(tokenized_text)))\n",
    "print(max(tokenized_text))"
   ]
  },
  {
   "cell_type": "code",
   "execution_count": 40,
   "metadata": {},
   "outputs": [
    {
     "data": {
      "text/plain": [
       "tensor([68464,  8676,   104,  ..., 70349, 47770,  3922])"
      ]
     },
     "execution_count": 40,
     "metadata": {},
     "output_type": "execute_result"
    }
   ],
   "source": [
    "# Split train and val\n",
    "idx = int(len(tokenized_text)*0.2)\n",
    "train_data = torch.tensor(tokenized_text[:idx])\n",
    "test_data = torch.tensor(tokenized_text[idx:])\n",
    "train_data"
   ]
  },
  {
   "cell_type": "code",
   "execution_count": 53,
   "metadata": {},
   "outputs": [
    {
     "name": "stdout",
     "output_type": "stream",
     "text": [
      "torch.Size([16, 16]) torch.Size([16, 16])\n"
     ]
    }
   ],
   "source": [
    "# embedding\n",
    "idxs = torch.randint(low=0, high=len(train_data)-context_length, size=(batch_size, ))\n",
    "\n",
    "x_batch = torch.stack([train_data[idx:idx + context_length] for idx in idxs])\n",
    "y_batch = torch.stack([train_data[idx + 1:idx + context_length + 1] for idx in idxs])\n",
    "print(x_batch.shape, y_batch.shape)\n",
    "\n",
    "token_embedding_lookup_table = nn.Embedding(max(tokenized_text), d_model)\n",
    "\n",
    "X = token_embedding_lookup_table(x_batch)\n",
    "Y = token_embedding_lookup_table(y_batch)"
   ]
  },
  {
   "cell_type": "code",
   "execution_count": 54,
   "metadata": {},
   "outputs": [],
   "source": [
    "# Position Embedding\n",
    "position_embedding_lookup_table = torch.zeros(context_length, d_model)\n",
    "position = torch.arange(0, context_length, dtype=torch.float).unsqueeze(1)\n",
    "\n",
    "div_term = torch.exp(torch.arange(0, d_model, 2).float() * (-math.log(10000.0) / d_model))\n",
    "position_embedding_lookup_table[:, 0::2] = torch.sin(position * div_term)\n",
    "position_embedding_lookup_table[:, 1::2] = torch.cos(position * div_term)\n",
    "position_embedding_lookup_table = position_embedding_lookup_table.unsqueeze(0).expand(batch_size, -1, -1) # add batch to the first dimension\n",
    "\n",
    "position_embedding_lookup_table.shape\n",
    "\n",
    "# add\n",
    "X = X + position_embedding_lookup_table \n",
    "Y = Y + position_embedding_lookup_table"
   ]
  },
  {
   "cell_type": "code",
   "execution_count": 59,
   "metadata": {},
   "outputs": [
    {
     "name": "stdout",
     "output_type": "stream",
     "text": [
      "torch.Size([16, 16, 128])\n"
     ]
    }
   ],
   "source": [
    "# Attention\n",
    "Wq = nn.Linear(d_model, d_model)\n",
    "Wk = nn.Linear(d_model, d_model)\n",
    "Wv = nn.Linear(d_model, d_model)\n",
    "\n",
    "Q = Wq(X) # [16, 16, 128]\n",
    "Q = Q.view(batch_size, -1, num_heads, d_model // num_heads).transpose(1, 2) # [16, 16, 8, 16] transpose to [16, 8, 16, 16]\n",
    "\n",
    "K = Wk(X) \n",
    "K = K.view(batch_size, -1, num_heads, d_model // num_heads).transpose(1, 2)\n",
    "\n",
    "V = Wv(X) \n",
    "V = V.view(batch_size, -1, num_heads, d_model // num_heads).transpose(1, 2)\n",
    "\n",
    "attention_score = torch.matmul(Q, K.transpose(-2, -1)) / math.sqrt(d_model // num_heads)\n",
    "\n",
    "# Mask\n",
    "attention_score = attention_score.masked_fill(torch.triu(torch.ones(attention_score.shape[-2:]), diagonal=1).bool(), float('-inf'))\n",
    "\n",
    "#softmax\n",
    "attention_score = torch.softmax(attention_score, dim=-1)\n",
    "\n",
    "# Calculate V Attention\n",
    "A = torch.matmul(attention_score, V).transpose(1, 2).reshape(batch_size, -1, d_model) \n",
    "\n",
    "# Define the output weight matrix\n",
    "Wo = nn.Linear(d_model, d_model)\n",
    "output = Wo(A) # [batch_size, context_length, d_model]\n",
    "\n",
    "print(output.shape)"
   ]
  },
  {
   "cell_type": "code",
   "execution_count": 61,
   "metadata": {},
   "outputs": [],
   "source": [
    "# Residual\n",
    "output += X\n",
    "layer_norm = nn.LayerNorm(d_model)\n",
    "output = layer_norm(output)"
   ]
  },
  {
   "cell_type": "code",
   "execution_count": 63,
   "metadata": {},
   "outputs": [],
   "source": [
    "# FFN\n",
    "output = nn.Linear(d_model, d_model * 4)(output)\n",
    "output = nn.ReLU()(output)\n",
    "output = nn.Linear(d_model * 4, d_model)(output)\n",
    "output = torch.dropout(output, p=dropout, train=True)\n",
    "\n",
    "output = output + X\n",
    "layer_norm = nn.LayerNorm(d_model)\n",
    "output = layer_norm(output)"
   ]
  },
  {
   "cell_type": "code",
   "execution_count": 67,
   "metadata": {},
   "outputs": [
    {
     "data": {
      "text/plain": [
       "tensor([[[5.0206e-06, 9.8759e-06, 5.5716e-06,  ..., 6.2844e-06,\n",
       "          1.2865e-05, 1.0489e-05],\n",
       "         [1.6787e-06, 6.5691e-06, 3.9025e-06,  ..., 4.0115e-06,\n",
       "          1.6302e-05, 1.4734e-05],\n",
       "         [9.1733e-06, 5.1127e-06, 1.3115e-05,  ..., 8.3735e-06,\n",
       "          8.0468e-06, 4.0596e-06],\n",
       "         ...,\n",
       "         [2.3865e-05, 4.9828e-06, 6.5063e-06,  ..., 9.5641e-06,\n",
       "          1.3973e-05, 5.6392e-06],\n",
       "         [8.0500e-06, 7.5009e-06, 8.8509e-06,  ..., 8.3006e-06,\n",
       "          1.5445e-05, 1.4808e-05],\n",
       "         [9.3619e-06, 1.4544e-05, 7.1078e-06,  ..., 8.7869e-06,\n",
       "          6.5119e-06, 1.0049e-05]],\n",
       "\n",
       "        [[2.6088e-06, 5.6392e-06, 1.4553e-05,  ..., 5.1348e-06,\n",
       "          2.0824e-05, 6.2696e-06],\n",
       "         [7.9053e-06, 6.4026e-06, 3.9326e-06,  ..., 5.2236e-06,\n",
       "          1.6211e-05, 1.2854e-05],\n",
       "         [9.5416e-06, 7.0024e-06, 1.0891e-05,  ..., 2.7811e-05,\n",
       "          1.0922e-05, 5.6386e-06],\n",
       "         ...,\n",
       "         [5.5527e-06, 5.8160e-06, 7.0172e-06,  ..., 5.0559e-06,\n",
       "          5.9954e-06, 1.7388e-05],\n",
       "         [1.0404e-05, 8.6084e-06, 6.4698e-06,  ..., 6.1184e-06,\n",
       "          5.7058e-06, 1.0229e-05],\n",
       "         [4.8096e-06, 4.2876e-06, 1.2644e-05,  ..., 5.5714e-06,\n",
       "          1.1457e-05, 1.5343e-05]],\n",
       "\n",
       "        [[2.3923e-06, 1.0057e-05, 1.4371e-05,  ..., 8.7442e-06,\n",
       "          1.3823e-05, 7.0693e-06],\n",
       "         [8.6950e-06, 1.8792e-06, 9.1100e-06,  ..., 1.7978e-05,\n",
       "          8.4762e-06, 2.1897e-05],\n",
       "         [7.3061e-06, 4.8163e-06, 6.8015e-06,  ..., 6.5760e-06,\n",
       "          2.4653e-06, 2.2618e-05],\n",
       "         ...,\n",
       "         [2.0118e-05, 8.5732e-06, 9.6547e-06,  ..., 3.0477e-05,\n",
       "          1.2120e-05, 6.2767e-06],\n",
       "         [1.3402e-05, 7.5139e-06, 9.0511e-06,  ..., 4.3438e-06,\n",
       "          6.3582e-06, 4.3641e-06],\n",
       "         [1.0138e-05, 8.6769e-06, 8.8301e-06,  ..., 5.8575e-06,\n",
       "          3.0982e-06, 1.2983e-05]],\n",
       "\n",
       "        ...,\n",
       "\n",
       "        [[4.9319e-06, 1.6078e-05, 5.4895e-06,  ..., 1.0519e-05,\n",
       "          1.0603e-05, 7.2914e-06],\n",
       "         [3.4592e-06, 7.4623e-06, 6.8132e-06,  ..., 4.2319e-06,\n",
       "          5.4643e-06, 3.4180e-06],\n",
       "         [3.3763e-06, 3.8685e-06, 1.2168e-05,  ..., 5.5374e-06,\n",
       "          1.2771e-05, 1.3230e-05],\n",
       "         ...,\n",
       "         [1.0185e-05, 8.0939e-06, 2.2260e-05,  ..., 6.0493e-06,\n",
       "          8.4714e-06, 2.1803e-05],\n",
       "         [1.1206e-05, 7.5017e-06, 4.5743e-06,  ..., 5.5376e-06,\n",
       "          5.7658e-06, 1.5514e-05],\n",
       "         [1.9729e-05, 4.9281e-06, 1.3264e-05,  ..., 9.4035e-06,\n",
       "          9.3006e-06, 1.1647e-05]],\n",
       "\n",
       "        [[2.6603e-06, 9.0552e-06, 1.3234e-05,  ..., 6.9229e-06,\n",
       "          3.4560e-06, 4.0458e-06],\n",
       "         [5.6485e-06, 6.2844e-06, 1.3409e-05,  ..., 1.2316e-05,\n",
       "          2.8861e-06, 5.5831e-06],\n",
       "         [2.9729e-06, 1.1668e-05, 1.4252e-05,  ..., 5.9531e-06,\n",
       "          5.2653e-06, 1.6966e-05],\n",
       "         ...,\n",
       "         [1.1277e-05, 7.7714e-06, 3.3867e-06,  ..., 1.1544e-05,\n",
       "          6.7065e-06, 7.7265e-06],\n",
       "         [1.0632e-05, 1.2591e-05, 9.1804e-06,  ..., 1.0068e-05,\n",
       "          1.9511e-05, 4.1576e-05],\n",
       "         [4.2932e-06, 1.6120e-05, 7.7703e-06,  ..., 8.7682e-06,\n",
       "          1.1919e-05, 6.1689e-06]],\n",
       "\n",
       "        [[3.0871e-06, 9.7511e-06, 1.0170e-05,  ..., 2.0154e-05,\n",
       "          2.3174e-05, 6.7352e-06],\n",
       "         [4.7282e-06, 5.9659e-06, 4.6096e-06,  ..., 4.7845e-06,\n",
       "          1.8214e-05, 5.1890e-06],\n",
       "         [9.1277e-06, 5.0314e-06, 1.3307e-05,  ..., 8.6228e-06,\n",
       "          8.2483e-06, 3.9978e-06],\n",
       "         ...,\n",
       "         [1.8526e-05, 5.6325e-06, 9.9120e-06,  ..., 4.8561e-06,\n",
       "          8.4640e-06, 1.3821e-05],\n",
       "         [4.9198e-06, 9.9960e-06, 5.0323e-06,  ..., 5.3749e-06,\n",
       "          4.9942e-06, 9.7995e-06],\n",
       "         [9.9332e-06, 7.2140e-06, 5.0238e-06,  ..., 7.7345e-06,\n",
       "          9.3071e-06, 1.4671e-05]]], grad_fn=<SoftmaxBackward0>)"
      ]
     },
     "execution_count": 67,
     "metadata": {},
     "output_type": "execute_result"
    }
   ],
   "source": [
    "# output probability\n",
    "logits = nn.Linear(d_model, max(tokenized_text))(output)\n",
    "#print(pd.DataFrame(logits[0].detach().cpu().numpy()))\n",
    "probabilities = torch.softmax(logits, dim=-1)\n",
    "# probabilities"
   ]
  }
 ],
 "metadata": {
  "kernelspec": {
   "display_name": "base",
   "language": "python",
   "name": "python3"
  },
  "language_info": {
   "codemirror_mode": {
    "name": "ipython",
    "version": 3
   },
   "file_extension": ".py",
   "mimetype": "text/x-python",
   "name": "python",
   "nbconvert_exporter": "python",
   "pygments_lexer": "ipython3",
   "version": "3.11.7"
  }
 },
 "nbformat": 4,
 "nbformat_minor": 2
}
