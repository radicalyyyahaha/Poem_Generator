{
 "cells": [
  {
   "cell_type": "code",
   "execution_count": 1,
   "metadata": {},
   "outputs": [],
   "source": [
    "import os\n",
    "import requests\n",
    "import pandas as pd\n",
    "import matplotlib.pyplot as plt\n",
    "import math\n",
    "import tiktoken\n",
    "import torch\n",
    "import torch.nn as nn"
   ]
  },
  {
   "cell_type": "code",
   "execution_count": 2,
   "metadata": {},
   "outputs": [
    {
     "data": {
      "text/plain": [
       "<torch._C.Generator at 0x19379e766d0>"
      ]
     },
     "execution_count": 2,
     "metadata": {},
     "output_type": "execute_result"
    }
   ],
   "source": [
    "# Hyperparameters\n",
    "batch_size = 16\n",
    "context_length = 16\n",
    "d_model = 128 # the vector size of the token embedding\n",
    "num_layers = 16 # num of Transformer blocks\n",
    "num_heads = 8\n",
    "lr = 1e-3\n",
    "dropout = 0.1\n",
    "max_iters = 5000\n",
    "eval_intervals = 50 # How often to evaluate \n",
    "eval_iters = 20 # How many iterations to average the loss over when evaluating the model\n",
    "device = 'cuda' if torch.cuda.is_available() else 'CPU'\n",
    "\n",
    "TORCH_SEED = 1557\n",
    "torch.manual_seed(TORCH_SEED)"
   ]
  },
  {
   "cell_type": "code",
   "execution_count": 3,
   "metadata": {},
   "outputs": [],
   "source": [
    "if not os.path.exists(\"train-00000-of-00001-faeb732d85449c1e.parquet\"):\n",
    "    url = 'https://huggingface.co/datasets/chenqile09/tang-poems-with-keywords/resolve/main/data/train-00000-of-00001-faeb732d85449c1e.parquet'\n",
    "    with open('train-00000-of-00001-faeb732d85449c1e.parquet', 'wb') as file:\n",
    "        file.write(requests.get(url).content)\n",
    "\n",
    "if not os.path.exists(\"test-00000-of-00001-94055845bc0c7e5e.parquet\"):\n",
    "    url = 'https://huggingface.co/datasets/chenqile09/tang-poems-with-keywords/resolve/main/data/test-00000-of-00001-94055845bc0c7e5e.parquet'\n",
    "    with open('test-00000-of-00001-94055845bc0c7e5e.parquet', 'wb') as file:\n",
    "        file.write(requests.get(url).content)\n",
    "\n",
    "df_train = pd.read_parquet(\"train-00000-of-00001-faeb732d85449c1e.parquet\")\n",
    "df_test = pd.read_parquet(\"test-00000-of-00001-94055845bc0c7e5e.parquet\")"
   ]
  },
  {
   "cell_type": "code",
   "execution_count": 4,
   "metadata": {},
   "outputs": [],
   "source": [
    "with open('train.txt', 'w') as file:\n",
    "    for text in df_train['paragraph']:\n",
    "        file.write(str(text) + '\\n')\n",
    "\n",
    "with open('test.txt', 'w') as file:\n",
    "    for text in df_test['paragraph']:\n",
    "        file.write(str(text) + '\\n')\n",
    "\n",
    "with open('train.txt', 'r') as a:\n",
    "    file1 = a.read()\n",
    "\n",
    "with open('test.txt', 'r') as b:\n",
    "    file2 = b.read()\n",
    "\n",
    "train = file1+file2\n"
   ]
  },
  {
   "cell_type": "code",
   "execution_count": 39,
   "metadata": {},
   "outputs": [
    {
     "data": {
      "application/vnd.jupyter.widget-view+json": {
       "model_id": "6ce9b4664210493fa872dab6083ca4db",
       "version_major": 2,
       "version_minor": 0
      },
      "text/plain": [
       "tokenizer_config.json:   0%|          | 0.00/49.0 [00:00<?, ?B/s]"
      ]
     },
     "metadata": {},
     "output_type": "display_data"
    },
    {
     "name": "stderr",
     "output_type": "stream",
     "text": [
      "C:\\Users\\Radicalyyy\\AppData\\Roaming\\Python\\Python311\\site-packages\\huggingface_hub\\file_download.py:148: UserWarning: `huggingface_hub` cache-system uses symlinks by default to efficiently store duplicated files but your machine does not support them in C:\\Users\\Radicalyyy\\.cache\\huggingface\\hub\\models--bert-base-chinese. Caching files will still work but in a degraded version that might require more space on your disk. This warning can be disabled by setting the `HF_HUB_DISABLE_SYMLINKS_WARNING` environment variable. For more details, see https://huggingface.co/docs/huggingface_hub/how-to-cache#limitations.\n",
      "To support symlinks on Windows, you either need to activate Developer Mode or to run Python as an administrator. In order to see activate developer mode, see this article: https://docs.microsoft.com/en-us/windows/apps/get-started/enable-your-device-for-development\n",
      "  warnings.warn(message)\n"
     ]
    },
    {
     "data": {
      "application/vnd.jupyter.widget-view+json": {
       "model_id": "6e51b5ed271840f6a86cd565adeacefa",
       "version_major": 2,
       "version_minor": 0
      },
      "text/plain": [
       "vocab.txt:   0%|          | 0.00/110k [00:00<?, ?B/s]"
      ]
     },
     "metadata": {},
     "output_type": "display_data"
    },
    {
     "data": {
      "application/vnd.jupyter.widget-view+json": {
       "model_id": "9da74d08bb8443f19b507aea1c5fca83",
       "version_major": 2,
       "version_minor": 0
      },
      "text/plain": [
       "tokenizer.json:   0%|          | 0.00/269k [00:00<?, ?B/s]"
      ]
     },
     "metadata": {},
     "output_type": "display_data"
    },
    {
     "data": {
      "application/vnd.jupyter.widget-view+json": {
       "model_id": "823e20e871894b979a15123c3f3cec10",
       "version_major": 2,
       "version_minor": 0
      },
      "text/plain": [
       "config.json:   0%|          | 0.00/624 [00:00<?, ?B/s]"
      ]
     },
     "metadata": {},
     "output_type": "display_data"
    },
    {
     "name": "stderr",
     "output_type": "stream",
     "text": [
      "Token indices sequence length is longer than the specified maximum sequence length for this model (1805012 > 512). Running this sequence through the model will result in indexing errors\n"
     ]
    }
   ],
   "source": [
    "# Tokenize the text\n",
    "from transformers import BertTokenizer\n",
    "\n",
    "tokenizer = BertTokenizer.from_pretrained('bert-base-chinese')\n",
    "train_tokens = tokenizer.tokenize(train)\n",
    "encoded_text = tokenizer.encode(train, return_tensors='pt').float()\n",
    "#print(encoder_text)\n"
   ]
  },
  {
   "cell_type": "code",
   "execution_count": 49,
   "metadata": {},
   "outputs": [
    {
     "name": "stdout",
     "output_type": "stream",
     "text": [
      "1805012\n",
      "1805012\n",
      "13606\n",
      "21128\n"
     ]
    }
   ],
   "source": [
    "print(len(encoded_text[0]))\n",
    "print(encoded_text.size(1))\n",
    "max_token = torch.max(encoded_text)\n",
    "print(int(max_token.item()))\n",
    "vocab_size = tokenizer.vocab_size\n",
    "print(vocab_size)"
   ]
  },
  {
   "cell_type": "code",
   "execution_count": 39,
   "metadata": {},
   "outputs": [
    {
     "name": "stdout",
     "output_type": "stream",
     "text": [
      "2800474\n",
      "937\n",
      "100179\n"
     ]
    }
   ],
   "source": [
    "# Tokenization\n",
    "encoding = tiktoken.get_encoding(\"cl100k_base\")\n",
    "tokenized_text = encoding.encode(train)\n",
    "\n",
    "print(len(tokenized_text))\n",
    "print(len(set(tokenized_text)))\n",
    "print(max(tokenized_text))"
   ]
  },
  {
   "cell_type": "code",
   "execution_count": 41,
   "metadata": {},
   "outputs": [
    {
     "name": "stdout",
     "output_type": "stream",
     "text": [
      "tensor([6205., 2126., 8024.,  ...,  740.,  511.,  102.])\n",
      "训练集样本数量: 1444010\n",
      "验证集样本数量: 361002\n"
     ]
    }
   ],
   "source": [
    "# Split train and val\n",
    "idx = int(len(encoded_text[0]) * 0.2)\n",
    "train_data = encoded_text[0][idx:]\n",
    "test_data = encoded_text[0][:idx]\n",
    "print(train_data)\n",
    "print(\"训练集样本数量:\", train_data.size(0))\n",
    "print(\"验证集样本数量:\", test_data.size(0))"
   ]
  },
  {
   "cell_type": "code",
   "execution_count": 65,
   "metadata": {},
   "outputs": [
    {
     "name": "stdout",
     "output_type": "stream",
     "text": [
      "torch.Size([16, 16]) torch.Size([16, 16])\n"
     ]
    }
   ],
   "source": [
    "# embedding\n",
    "idxs = torch.randint(low=0, high=train_data.size(0)-context_length, size=(batch_size, ))\n",
    "\n",
    "x_batch = torch.stack([train_data[idx:idx + context_length] for idx in idxs])\n",
    "y_batch = torch.stack([train_data[idx + 1:idx + context_length + 1] for idx in idxs])\n",
    "print(x_batch.shape, y_batch.shape)\n",
    "\n",
    "token_embedding_lookup_table = nn.Embedding(int(max_token.item()), d_model)\n",
    "\n",
    "X = token_embedding_lookup_table(x_batch.long()).float()\n",
    "Y = token_embedding_lookup_table(y_batch.long()).float()"
   ]
  },
  {
   "cell_type": "code",
   "execution_count": 57,
   "metadata": {},
   "outputs": [],
   "source": [
    "# Position Embedding\n",
    "position_embedding_lookup_table = torch.zeros(context_length, d_model)\n",
    "position = torch.arange(0, context_length, dtype=torch.float).unsqueeze(1)\n",
    "\n",
    "div_term = torch.exp(torch.arange(0, d_model, 2).float() * (-math.log(10000.0) / d_model))\n",
    "position_embedding_lookup_table[:, 0::2] = torch.sin(position * div_term)\n",
    "position_embedding_lookup_table[:, 1::2] = torch.cos(position * div_term)\n",
    "position_embedding_lookup_table = position_embedding_lookup_table.unsqueeze(0).expand(batch_size, -1, -1) # add batch to the first dimension\n",
    "\n",
    "position_embedding_lookup_table.shape\n",
    "\n",
    "# add\n",
    "X = X + position_embedding_lookup_table \n",
    "Y = Y + position_embedding_lookup_table"
   ]
  },
  {
   "cell_type": "code",
   "execution_count": 58,
   "metadata": {},
   "outputs": [
    {
     "name": "stdout",
     "output_type": "stream",
     "text": [
      "torch.Size([16, 16, 128])\n"
     ]
    }
   ],
   "source": [
    "# Attention\n",
    "Wq = nn.Linear(d_model, d_model)\n",
    "Wk = nn.Linear(d_model, d_model)\n",
    "Wv = nn.Linear(d_model, d_model)\n",
    "\n",
    "Q = Wq(X) # [16, 16, 128]\n",
    "Q = Q.view(batch_size, -1, num_heads, d_model // num_heads).transpose(1, 2) # [16, 16, 8, 16] transpose to [16, 8, 16, 16]\n",
    "\n",
    "K = Wk(X) \n",
    "K = K.view(batch_size, -1, num_heads, d_model // num_heads).transpose(1, 2)\n",
    "\n",
    "V = Wv(X) \n",
    "V = V.view(batch_size, -1, num_heads, d_model // num_heads).transpose(1, 2)\n",
    "\n",
    "attention_score = torch.matmul(Q, K.transpose(-2, -1)) / math.sqrt(d_model // num_heads)\n",
    "\n",
    "# Mask\n",
    "attention_score = attention_score.masked_fill(torch.triu(torch.ones(attention_score.shape[-2:]), diagonal=1).bool(), float('-inf'))\n",
    "\n",
    "#softmax\n",
    "attention_score = torch.softmax(attention_score, dim=-1)\n",
    "\n",
    "# Calculate V Attention\n",
    "A = torch.matmul(attention_score, V).transpose(1, 2).reshape(batch_size, -1, d_model) \n",
    "\n",
    "# Define the output weight matrix\n",
    "Wo = nn.Linear(d_model, d_model)\n",
    "output = Wo(A) # [batch_size, context_length, d_model]\n",
    "\n",
    "print(output.shape)"
   ]
  },
  {
   "cell_type": "code",
   "execution_count": 59,
   "metadata": {},
   "outputs": [],
   "source": [
    "# Residual\n",
    "output += X\n",
    "layer_norm = nn.LayerNorm(d_model)\n",
    "output = layer_norm(output)"
   ]
  },
  {
   "cell_type": "code",
   "execution_count": 60,
   "metadata": {},
   "outputs": [],
   "source": [
    "# FFN\n",
    "output = nn.Linear(d_model, d_model * 4)(output)\n",
    "output = nn.ReLU()(output)\n",
    "output = nn.Linear(d_model * 4, d_model)(output)\n",
    "output = torch.dropout(output, p=dropout, train=True)\n",
    "\n",
    "output = output + X\n",
    "layer_norm = nn.LayerNorm(d_model)\n",
    "output = layer_norm(output)"
   ]
  },
  {
   "cell_type": "code",
   "execution_count": 64,
   "metadata": {},
   "outputs": [
    {
     "data": {
      "text/plain": [
       "tensor([[[5.2476e-05, 4.6952e-05, 3.6880e-05,  ..., 4.1985e-05,\n",
       "          8.4283e-05, 2.6543e-05],\n",
       "         [7.7057e-05, 4.7617e-05, 9.0462e-05,  ..., 5.0277e-05,\n",
       "          1.3308e-04, 9.6898e-05],\n",
       "         [1.3272e-04, 3.6687e-05, 5.0020e-05,  ..., 5.0874e-05,\n",
       "          7.5719e-05, 4.2202e-05],\n",
       "         ...,\n",
       "         [2.2574e-05, 1.4013e-04, 3.0982e-05,  ..., 2.2377e-05,\n",
       "          2.1005e-05, 5.7279e-05],\n",
       "         [3.9174e-05, 1.2195e-04, 6.3539e-05,  ..., 2.1079e-05,\n",
       "          3.2069e-05, 5.3700e-05],\n",
       "         [2.8621e-05, 8.8762e-05, 4.9019e-05,  ..., 1.7455e-05,\n",
       "          3.1835e-05, 1.5253e-04]],\n",
       "\n",
       "        [[5.2752e-05, 1.0134e-04, 1.3704e-04,  ..., 3.0588e-05,\n",
       "          2.8203e-05, 7.2964e-05],\n",
       "         [3.2219e-05, 6.3784e-05, 6.8260e-05,  ..., 2.3701e-05,\n",
       "          3.7337e-05, 1.3969e-04],\n",
       "         [7.7487e-05, 5.8984e-05, 1.2698e-05,  ..., 6.6245e-05,\n",
       "          9.1066e-05, 9.6248e-05],\n",
       "         ...,\n",
       "         [2.4722e-05, 9.4411e-05, 4.4144e-05,  ..., 2.1431e-05,\n",
       "          2.4734e-05, 1.6561e-04],\n",
       "         [9.3552e-05, 7.5099e-05, 1.5952e-05,  ..., 9.0429e-05,\n",
       "          3.6808e-05, 8.7478e-05],\n",
       "         [2.0799e-05, 1.0795e-04, 3.3835e-05,  ..., 4.9215e-05,\n",
       "          3.2285e-05, 2.2367e-05]],\n",
       "\n",
       "        [[6.5430e-05, 3.1197e-05, 2.8979e-05,  ..., 6.5003e-05,\n",
       "          1.7764e-04, 9.0247e-05],\n",
       "         [1.2894e-04, 3.1089e-05, 7.0992e-05,  ..., 5.3044e-05,\n",
       "          7.5637e-05, 6.6125e-05],\n",
       "         [1.1942e-04, 5.6645e-05, 3.6572e-05,  ..., 3.4608e-05,\n",
       "          7.8846e-05, 6.8890e-05],\n",
       "         ...,\n",
       "         [3.1990e-05, 6.1430e-05, 6.6309e-05,  ..., 1.5053e-05,\n",
       "          5.8943e-05, 1.0235e-04],\n",
       "         [2.5122e-05, 8.8926e-05, 4.6835e-05,  ..., 1.7991e-05,\n",
       "          2.8144e-05, 1.8308e-04],\n",
       "         [7.8337e-05, 1.2205e-04, 5.6572e-05,  ..., 2.7222e-05,\n",
       "          6.1929e-05, 5.8036e-05]],\n",
       "\n",
       "        ...,\n",
       "\n",
       "        [[3.6134e-05, 1.1403e-04, 8.4060e-05,  ..., 3.4318e-05,\n",
       "          6.9461e-05, 3.3031e-05],\n",
       "         [9.8750e-05, 5.5396e-05, 6.6128e-05,  ..., 2.2830e-05,\n",
       "          6.4006e-05, 4.7291e-05],\n",
       "         [4.8343e-05, 1.0934e-04, 3.5239e-05,  ..., 3.6735e-05,\n",
       "          4.1418e-05, 9.7499e-05],\n",
       "         ...,\n",
       "         [4.4626e-05, 1.2397e-04, 4.2527e-05,  ..., 6.0220e-05,\n",
       "          7.1062e-05, 2.2740e-05],\n",
       "         [3.3636e-05, 1.7346e-04, 2.2230e-05,  ..., 5.6998e-05,\n",
       "          6.3328e-05, 1.1030e-04],\n",
       "         [2.7472e-05, 1.0072e-04, 5.1159e-05,  ..., 1.7906e-05,\n",
       "          3.1273e-05, 1.5724e-04]],\n",
       "\n",
       "        [[2.0113e-05, 3.2858e-05, 4.1186e-05,  ..., 3.9451e-05,\n",
       "          5.2020e-05, 5.5669e-05],\n",
       "         [4.9082e-05, 8.3603e-05, 1.0890e-04,  ..., 9.8786e-05,\n",
       "          1.2854e-04, 3.5701e-05],\n",
       "         [9.6552e-05, 3.5752e-05, 9.5416e-05,  ..., 6.2539e-05,\n",
       "          1.0118e-04, 5.2076e-05],\n",
       "         ...,\n",
       "         [4.2666e-05, 7.1183e-05, 4.5572e-05,  ..., 6.1131e-05,\n",
       "          2.6778e-05, 4.9998e-05],\n",
       "         [2.9016e-05, 1.9570e-04, 4.7821e-05,  ..., 4.0663e-05,\n",
       "          4.0332e-05, 5.3706e-05],\n",
       "         [4.8173e-05, 9.5072e-05, 1.3500e-05,  ..., 5.0793e-05,\n",
       "          4.3192e-05, 8.0703e-05]],\n",
       "\n",
       "        [[7.2785e-05, 1.2651e-04, 4.0217e-05,  ..., 4.1164e-05,\n",
       "          3.2766e-05, 2.4367e-05],\n",
       "         [1.0349e-04, 2.4583e-05, 6.6935e-05,  ..., 2.9234e-05,\n",
       "          7.5862e-05, 6.8555e-05],\n",
       "         [1.7441e-04, 9.4403e-05, 5.4335e-05,  ..., 3.0473e-05,\n",
       "          1.1736e-04, 1.0632e-04],\n",
       "         ...,\n",
       "         [7.1580e-05, 1.2887e-04, 8.3991e-05,  ..., 3.0617e-05,\n",
       "          3.1831e-05, 2.7673e-05],\n",
       "         [5.6133e-05, 5.2781e-05, 5.0160e-05,  ..., 2.6324e-05,\n",
       "          5.7732e-05, 1.4843e-04],\n",
       "         [4.3478e-05, 1.0856e-04, 3.1918e-05,  ..., 2.4390e-05,\n",
       "          7.2437e-05, 3.3430e-05]]], grad_fn=<SoftmaxBackward0>)"
      ]
     },
     "execution_count": 64,
     "metadata": {},
     "output_type": "execute_result"
    }
   ],
   "source": [
    "# output probability\n",
    "logits = nn.Linear(d_model, int(max_token.item()))(output)\n",
    "#print(pd.DataFrame(logits[0].detach().cpu().numpy()))\n",
    "probabilities = torch.softmax(logits, dim=-1)\n",
    "probabilities"
   ]
  }
 ],
 "metadata": {
  "kernelspec": {
   "display_name": "base",
   "language": "python",
   "name": "python3"
  },
  "language_info": {
   "codemirror_mode": {
    "name": "ipython",
    "version": 3
   },
   "file_extension": ".py",
   "mimetype": "text/x-python",
   "name": "python",
   "nbconvert_exporter": "python",
   "pygments_lexer": "ipython3",
   "version": "3.11.7"
  }
 },
 "nbformat": 4,
 "nbformat_minor": 2
}
