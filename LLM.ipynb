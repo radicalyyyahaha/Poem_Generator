{
 "cells": [
  {
   "cell_type": "code",
   "execution_count": 1,
   "metadata": {},
   "outputs": [],
   "source": [
    "import os\n",
    "import requests\n",
    "import pandas as pd\n",
    "import matplotlib.pyplot as plt\n",
    "import math\n",
    "import tiktoken\n",
    "import torch\n",
    "import torch.nn as nn"
   ]
  },
  {
   "cell_type": "code",
   "execution_count": 2,
   "metadata": {},
   "outputs": [
    {
     "data": {
      "text/plain": [
       "<torch._C.Generator at 0x1f53b3e66d0>"
      ]
     },
     "execution_count": 2,
     "metadata": {},
     "output_type": "execute_result"
    }
   ],
   "source": [
    "# Hyperparameters\n",
    "batch_size = 16\n",
    "context_length = 16\n",
    "d_model = 128 # the vector size of the token embedding\n",
    "num_layers = 16 # num of Transformer blocks\n",
    "num_heads = 8\n",
    "lr = 1e-3\n",
    "dropout = 0.1\n",
    "max_iters = 5000\n",
    "eval_intervals = 50 # How often to evaluate \n",
    "eval_iters = 20 # How many iterations to average the loss over when evaluating the model\n",
    "device = 'cuda' if torch.cuda.is_available() else 'CPU'\n",
    "\n",
    "TORCH_SEED = 1557\n",
    "torch.manual_seed(TORCH_SEED)"
   ]
  },
  {
   "cell_type": "code",
   "execution_count": 3,
   "metadata": {},
   "outputs": [],
   "source": [
    "if not os.path.exists(\"train-00000-of-00001-faeb732d85449c1e.parquet\"):\n",
    "    url = 'https://huggingface.co/datasets/chenqile09/tang-poems-with-keywords/resolve/main/data/train-00000-of-00001-faeb732d85449c1e.parquet'\n",
    "    with open('train-00000-of-00001-faeb732d85449c1e.parquet', 'wb') as file:\n",
    "        file.write(requests.get(url).content)\n",
    "\n",
    "if not os.path.exists(\"test-00000-of-00001-94055845bc0c7e5e.parquet\"):\n",
    "    url = 'https://huggingface.co/datasets/chenqile09/tang-poems-with-keywords/resolve/main/data/test-00000-of-00001-94055845bc0c7e5e.parquet'\n",
    "    with open('test-00000-of-00001-94055845bc0c7e5e.parquet', 'wb') as file:\n",
    "        file.write(requests.get(url).content)\n",
    "\n",
    "df_train = pd.read_parquet(\"train-00000-of-00001-faeb732d85449c1e.parquet\")\n",
    "df_test = pd.read_parquet(\"test-00000-of-00001-94055845bc0c7e5e.parquet\")"
   ]
  },
  {
   "cell_type": "code",
   "execution_count": 4,
   "metadata": {},
   "outputs": [],
   "source": [
    "with open('train.txt', 'w') as file:\n",
    "    for text in df_train['paragraph']:\n",
    "        file.write(str(text) + '\\n')\n",
    "\n",
    "with open('test.txt', 'w') as file:\n",
    "    for text in df_test['paragraph']:\n",
    "        file.write(str(text) + '\\n')\n",
    "\n",
    "with open('train.txt', 'r') as a:\n",
    "    file1 = a.read()\n",
    "\n",
    "with open('test.txt', 'r') as b:\n",
    "    file2 = b.read()\n",
    "\n",
    "train = file1+file2\n"
   ]
  },
  {
   "cell_type": "code",
   "execution_count": 5,
   "metadata": {},
   "outputs": [
    {
     "name": "stderr",
     "output_type": "stream",
     "text": [
      "Token indices sequence length is longer than the specified maximum sequence length for this model (1805012 > 512). Running this sequence through the model will result in indexing errors\n"
     ]
    }
   ],
   "source": [
    "# Tokenize the text\n",
    "from transformers import BertTokenizer\n",
    "\n",
    "tokenizer = BertTokenizer.from_pretrained('bert-base-chinese')\n",
    "train_tokens = tokenizer.tokenize(train)\n",
    "encoded_text = tokenizer.encode(train, return_tensors='pt').float()\n",
    "#print(encoder_text)\n"
   ]
  },
  {
   "cell_type": "code",
   "execution_count": 6,
   "metadata": {},
   "outputs": [
    {
     "name": "stdout",
     "output_type": "stream",
     "text": [
      "1805012\n",
      "1805012\n",
      "13606\n",
      "21128\n"
     ]
    }
   ],
   "source": [
    "print(len(encoded_text[0]))\n",
    "print(encoded_text.size(1))\n",
    "max_token = torch.max(encoded_text)\n",
    "print(int(max_token.item()))\n",
    "vocab_size = tokenizer.vocab_size\n",
    "print(vocab_size)"
   ]
  },
  {
   "cell_type": "code",
   "execution_count": 39,
   "metadata": {},
   "outputs": [
    {
     "name": "stdout",
     "output_type": "stream",
     "text": [
      "2800474\n",
      "937\n",
      "100179\n"
     ]
    }
   ],
   "source": [
    "# Tokenization\n",
    "encoding = tiktoken.get_encoding(\"cl100k_base\")\n",
    "tokenized_text = encoding.encode(train)\n",
    "\n",
    "print(len(tokenized_text))\n",
    "print(len(set(tokenized_text)))\n",
    "print(max(tokenized_text))"
   ]
  },
  {
   "cell_type": "code",
   "execution_count": 7,
   "metadata": {},
   "outputs": [
    {
     "name": "stdout",
     "output_type": "stream",
     "text": [
      "tensor([6205., 2126., 8024.,  ...,  740.,  511.,  102.])\n",
      "训练集样本数量: 1444010\n",
      "验证集样本数量: 361002\n"
     ]
    }
   ],
   "source": [
    "# Split train and val\n",
    "idx = int(len(encoded_text[0]) * 0.2)\n",
    "train_data = encoded_text[0][idx:]\n",
    "test_data = encoded_text[0][:idx]\n",
    "print(train_data)\n",
    "print(\"训练集样本数量:\", train_data.size(0))\n",
    "print(\"验证集样本数量:\", test_data.size(0))"
   ]
  },
  {
   "cell_type": "code",
   "execution_count": 8,
   "metadata": {},
   "outputs": [
    {
     "name": "stdout",
     "output_type": "stream",
     "text": [
      "torch.Size([16, 16]) torch.Size([16, 16])\n"
     ]
    }
   ],
   "source": [
    "# embedding\n",
    "idxs = torch.randint(low=0, high=train_data.size(0)-context_length, size=(batch_size, ))\n",
    "\n",
    "x_batch = torch.stack([train_data[idx:idx + context_length] for idx in idxs])\n",
    "y_batch = torch.stack([train_data[idx + 1:idx + context_length + 1] for idx in idxs])\n",
    "print(x_batch.shape, y_batch.shape)\n",
    "\n",
    "token_embedding_lookup_table = nn.Embedding(int(max_token.item()), d_model)\n",
    "\n",
    "X = token_embedding_lookup_table(x_batch.long()).float()\n",
    "Y = token_embedding_lookup_table(y_batch.long()).float()"
   ]
  },
  {
   "cell_type": "code",
   "execution_count": 9,
   "metadata": {},
   "outputs": [],
   "source": [
    "# Position Embedding\n",
    "position_embedding_lookup_table = torch.zeros(context_length, d_model)\n",
    "position = torch.arange(0, context_length, dtype=torch.float).unsqueeze(1)\n",
    "\n",
    "div_term = torch.exp(torch.arange(0, d_model, 2).float() * (-math.log(10000.0) / d_model))\n",
    "position_embedding_lookup_table[:, 0::2] = torch.sin(position * div_term)\n",
    "position_embedding_lookup_table[:, 1::2] = torch.cos(position * div_term)\n",
    "position_embedding_lookup_table = position_embedding_lookup_table.unsqueeze(0).expand(batch_size, -1, -1) # add batch to the first dimension\n",
    "\n",
    "position_embedding_lookup_table.shape\n",
    "\n",
    "# add\n",
    "X = X + position_embedding_lookup_table \n",
    "Y = Y + position_embedding_lookup_table"
   ]
  },
  {
   "cell_type": "code",
   "execution_count": 10,
   "metadata": {},
   "outputs": [
    {
     "name": "stdout",
     "output_type": "stream",
     "text": [
      "torch.Size([16, 16, 128])\n"
     ]
    }
   ],
   "source": [
    "# Attention\n",
    "Wq = nn.Linear(d_model, d_model)\n",
    "Wk = nn.Linear(d_model, d_model)\n",
    "Wv = nn.Linear(d_model, d_model)\n",
    "\n",
    "Q = Wq(X) # [16, 16, 128]\n",
    "Q = Q.view(batch_size, -1, num_heads, d_model // num_heads).transpose(1, 2) # [16, 16, 8, 16] transpose to [16, 8, 16, 16]\n",
    "\n",
    "K = Wk(X) \n",
    "K = K.view(batch_size, -1, num_heads, d_model // num_heads).transpose(1, 2)\n",
    "\n",
    "V = Wv(X) \n",
    "V = V.view(batch_size, -1, num_heads, d_model // num_heads).transpose(1, 2)\n",
    "\n",
    "attention_score = torch.matmul(Q, K.transpose(-2, -1)) / math.sqrt(d_model // num_heads)\n",
    "\n",
    "# Mask\n",
    "attention_score = attention_score.masked_fill(torch.triu(torch.ones(attention_score.shape[-2:]), diagonal=1).bool(), float('-inf'))\n",
    "\n",
    "#softmax\n",
    "attention_score = torch.softmax(attention_score, dim=-1)\n",
    "\n",
    "# Calculate V Attention\n",
    "A = torch.matmul(attention_score, V).transpose(1, 2).reshape(batch_size, -1, d_model) \n",
    "\n",
    "# Define the output weight matrix\n",
    "Wo = nn.Linear(d_model, d_model)\n",
    "output = Wo(A) # [batch_size, context_length, d_model]\n",
    "\n",
    "print(output.shape)"
   ]
  },
  {
   "cell_type": "code",
   "execution_count": 11,
   "metadata": {},
   "outputs": [],
   "source": [
    "# Residual\n",
    "output += X\n",
    "layer_norm = nn.LayerNorm(d_model)\n",
    "output1 = layer_norm(output)"
   ]
  },
  {
   "cell_type": "code",
   "execution_count": 12,
   "metadata": {},
   "outputs": [],
   "source": [
    "# FFN\n",
    "output = nn.Linear(d_model, d_model * 4)(output1)\n",
    "output = nn.ReLU()(output)\n",
    "output = nn.Linear(d_model * 4, d_model)(output)\n",
    "output = torch.dropout(output, p=dropout, train=True)\n",
    "\n",
    "output = output + output1\n",
    "layer_norm = nn.LayerNorm(d_model)\n",
    "output = layer_norm(output)"
   ]
  },
  {
   "cell_type": "code",
   "execution_count": 14,
   "metadata": {},
   "outputs": [
    {
     "name": "stdout",
     "output_type": "stream",
     "text": [
      "torch.Size([16, 16, 13606])\n"
     ]
    }
   ],
   "source": [
    "# output probability\n",
    "logits = nn.Linear(d_model, int(max_token.item()))(output)\n",
    "#print(pd.DataFrame(logits[0].detach().cpu().numpy()))\n",
    "probabilities = torch.softmax(logits, dim=-1)\n",
    "print(probabilities.shape)"
   ]
  }
 ],
 "metadata": {
  "kernelspec": {
   "display_name": "base",
   "language": "python",
   "name": "python3"
  },
  "language_info": {
   "codemirror_mode": {
    "name": "ipython",
    "version": 3
   },
   "file_extension": ".py",
   "mimetype": "text/x-python",
   "name": "python",
   "nbconvert_exporter": "python",
   "pygments_lexer": "ipython3",
   "version": "3.11.7"
  }
 },
 "nbformat": 4,
 "nbformat_minor": 2
}
